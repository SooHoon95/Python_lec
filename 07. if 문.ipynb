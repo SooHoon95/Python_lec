{
 "cells": [
  {
   "cell_type": "code",
   "execution_count": 1,
   "id": "3efe8bb9",
   "metadata": {},
   "outputs": [],
   "source": [
    "from random import randint"
   ]
  },
  {
   "cell_type": "code",
   "execution_count": 2,
   "id": "45c860d3",
   "metadata": {},
   "outputs": [
    {
     "name": "stdout",
     "output_type": "stream",
     "text": [
      "---end---\n"
     ]
    }
   ],
   "source": [
    "# if 문\n",
    "x = randint (1,100)\n",
    "x\n",
    "\n",
    "if x > 50 :\n",
    "    print(str(x), \"is greater than 50\")\n",
    "#if scope는 여기서 끝\n",
    "\n",
    "print(\"---end---\")"
   ]
  },
  {
   "cell_type": "code",
   "execution_count": 3,
   "id": "762362b8",
   "metadata": {},
   "outputs": [
    {
     "name": "stdout",
     "output_type": "stream",
     "text": [
      "92 is greater than 50\n",
      "----- end -----\n"
     ]
    }
   ],
   "source": [
    "# if else\n",
    "x = randint(1, 100)\n",
    "\n",
    "if x > 50 :\n",
    "    print(str(x), 'is greater than 50')\n",
    "else:\n",
    "    print(str(x), 'is less or equla to 50')\n",
    "    \n",
    "print(\"----- end -----\")"
   ]
  },
  {
   "cell_type": "code",
   "execution_count": 4,
   "id": "52788c37",
   "metadata": {},
   "outputs": [
    {
     "name": "stdout",
     "output_type": "stream",
     "text": [
      "17 is less than 50\n",
      "--- end ---\n"
     ]
    }
   ],
   "source": [
    "# if elif else\n",
    "x = randint(1, 100)\n",
    "\n",
    "if x > 50:\n",
    "    print(str(x), \"is greater than 50\")\n",
    "elif x == 50 :\n",
    "    print(str(x), \"is equla to 50\")\n",
    "else :\n",
    "    print(str(x), \"is less than 50\")\n",
    "    \n",
    "print('--- end ---')"
   ]
  },
  {
   "cell_type": "code",
   "execution_count": 5,
   "id": "b7d11957",
   "metadata": {},
   "outputs": [
    {
     "name": "stdout",
     "output_type": "stream",
     "text": [
      "숫자를 입력하세요2\n"
     ]
    },
    {
     "data": {
      "text/plain": [
       "int"
      ]
     },
     "execution_count": 5,
     "metadata": {},
     "output_type": "execute_result"
    }
   ],
   "source": [
    "type(int(input(\"숫자를 입력하세요\"))) # *가 있으면 진행중이라는 뜻"
   ]
  },
  {
   "cell_type": "code",
   "execution_count": 6,
   "id": "7ea604ab",
   "metadata": {},
   "outputs": [
    {
     "name": "stdout",
     "output_type": "stream",
     "text": [
      "숫자를 입력하세요21\n",
      "17 은/는 홀수 입니다\n"
     ]
    }
   ],
   "source": [
    "# 사용자로부터 숫자를 입력받아 홀 짝수 구분\n",
    "\n",
    "#예 :) 23은 홀 수 입니다.\n",
    "var = int(input(\"숫자를 입력하세요\"))\n",
    "var = \"\"\n",
    "if (x%2) == 1:\n",
    "    var = '홀수'\n",
    "else:\n",
    "    var = '짝수'\n",
    "    \n",
    "print(str(x) , '은/는', var, '입니다')"
   ]
  },
  {
   "cell_type": "code",
   "execution_count": 8,
   "id": "a2261a7b",
   "metadata": {},
   "outputs": [
    {
     "name": "stdout",
     "output_type": "stream",
     "text": [
      "점수를 입력하세요65\n",
      "입력하신 점수는 65 점 이고 D 학점입니다.\n"
     ]
    }
   ],
   "source": [
    "# 사용자로 부터 점수를 입력받아 학점 등급을 계산하여 출력하기\n",
    "score = int(input('점수를 입력하세요'))\n",
    "var2 = \"\"\n",
    "if score >= 90 :\n",
    "    var2 = 'A'\n",
    "elif score >= 80 :\n",
    "    var2 = 'B'\n",
    "elif score >= 70 :\n",
    "    var2 = 'C'\n",
    "elif score >= 50 :\n",
    "    var2 = 'D'\n",
    "else :\n",
    "    var2 = 'F'\n",
    "    \n",
    "print('입력하신 점수는', str(score), '점 이고', var2, '학점입니다.')\n",
    "# 예: ) 점수는 89점이고 B학점 입니다."
   ]
  },
  {
   "cell_type": "code",
   "execution_count": 18,
   "id": "1e696f76",
   "metadata": {},
   "outputs": [
    {
     "name": "stdout",
     "output_type": "stream",
     "text": [
      "신용카드로 택시타기\n"
     ]
    }
   ],
   "source": [
    "pocket =['paper', 'smartphone']\n",
    "card = -1 # 0만 false고 나머지는 다 true로 처리된다. (-1)도 포함\n",
    "\n",
    "\n",
    "if 'money' in pocket:\n",
    "    print('현금으로 택시타기')\n",
    "elif card:\n",
    "    print(\"신용카드로 택시타기\")\n",
    "else:\n",
    "    print('튼튼한 다리 사용!')"
   ]
  },
  {
   "cell_type": "code",
   "execution_count": null,
   "id": "2ecce8db",
   "metadata": {},
   "outputs": [],
   "source": []
  },
  {
   "cell_type": "code",
   "execution_count": null,
   "id": "269a4229",
   "metadata": {},
   "outputs": [],
   "source": []
  },
  {
   "cell_type": "code",
   "execution_count": null,
   "id": "3826ebaa",
   "metadata": {},
   "outputs": [],
   "source": []
  },
  {
   "cell_type": "code",
   "execution_count": null,
   "id": "f896277e",
   "metadata": {},
   "outputs": [],
   "source": []
  },
  {
   "cell_type": "code",
   "execution_count": null,
   "id": "ecd779c9",
   "metadata": {},
   "outputs": [],
   "source": []
  },
  {
   "cell_type": "code",
   "execution_count": null,
   "id": "3e49b6f1",
   "metadata": {},
   "outputs": [],
   "source": []
  },
  {
   "cell_type": "code",
   "execution_count": null,
   "id": "cfd53826",
   "metadata": {},
   "outputs": [],
   "source": []
  },
  {
   "cell_type": "code",
   "execution_count": null,
   "id": "5e395ff7",
   "metadata": {},
   "outputs": [],
   "source": []
  },
  {
   "cell_type": "code",
   "execution_count": null,
   "id": "d14110f1",
   "metadata": {},
   "outputs": [],
   "source": []
  },
  {
   "cell_type": "code",
   "execution_count": null,
   "id": "0d66d198",
   "metadata": {},
   "outputs": [],
   "source": []
  }
 ],
 "metadata": {
  "kernelspec": {
   "display_name": "Python 3",
   "language": "python",
   "name": "python3"
  },
  "language_info": {
   "codemirror_mode": {
    "name": "ipython",
    "version": 3
   },
   "file_extension": ".py",
   "mimetype": "text/x-python",
   "name": "python",
   "nbconvert_exporter": "python",
   "pygments_lexer": "ipython3",
   "version": "3.8.8"
  }
 },
 "nbformat": 4,
 "nbformat_minor": 5
}
