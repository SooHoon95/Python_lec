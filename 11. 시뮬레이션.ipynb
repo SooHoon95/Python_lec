{
 "cells": [
  {
   "cell_type": "markdown",
   "id": "d971a54d",
   "metadata": {},
   "source": [
    "# 시뮬레이션\n",
    "---"
   ]
  },
  {
   "cell_type": "markdown",
   "id": "efc3dd7b",
   "metadata": {},
   "source": [
    "# 몬테카를로 시뮬레이션\n",
    ": 자료가 없을 경우 난수를 통해서 가설증명"
   ]
  },
  {
   "cell_type": "markdown",
   "id": "3cca9246",
   "metadata": {},
   "source": [
    "## 동전의 앞면과 뒷면이 나올 확률이 같다는 것을 증명한다"
   ]
  },
  {
   "cell_type": "code",
   "execution_count": 53,
   "id": "90cf7b48",
   "metadata": {},
   "outputs": [],
   "source": [
    "# 모듈 불러오기\n",
    "import random"
   ]
  },
  {
   "cell_type": "code",
   "execution_count": 54,
   "id": "b69cc592",
   "metadata": {},
   "outputs": [
    {
     "data": {
      "text/plain": [
       "1"
      ]
     },
     "execution_count": 54,
     "metadata": {},
     "output_type": "execute_result"
    }
   ],
   "source": [
    "random.randint(1,10)"
   ]
  },
  {
   "cell_type": "code",
   "execution_count": 55,
   "id": "cafe0009",
   "metadata": {},
   "outputs": [
    {
     "name": "stdout",
     "output_type": "stream",
     "text": [
      "앞면\n"
     ]
    }
   ],
   "source": [
    "x = random.randint(1,2)\n",
    "if x == 1:\n",
    "    result = \"앞면\"\n",
    "else:\n",
    "    result = \"뒷면\"\n",
    "\n",
    "print(result)"
   ]
  },
  {
   "cell_type": "code",
   "execution_count": 83,
   "id": "aa8a14f9",
   "metadata": {},
   "outputs": [],
   "source": [
    "def coinF( n ):\n",
    "    coinFront = coinRear = 0\n",
    "    for i in range(1, n+1):\n",
    "        x = random.randint(1,2)\n",
    "        if x == 1:\n",
    "            coinFront += 1\n",
    "        else:\n",
    "            coinRear += 1\n",
    "    print(\"%7d번 시도 시 동전의 앞면은 %6d번 이고 동전의 뒷면은 %6d번 입니다.\" %(n, coinFront, coinRear))"
   ]
  },
  {
   "cell_type": "code",
   "execution_count": 81,
   "id": "902373bd",
   "metadata": {},
   "outputs": [
    {
     "name": "stdout",
     "output_type": "stream",
     "text": [
      "     10번 시도 시 동전의 앞면은      7번 이고 동전의 뒷면은      3번 입니다.\n"
     ]
    }
   ],
   "source": [
    "coinF(10)"
   ]
  },
  {
   "cell_type": "code",
   "execution_count": 84,
   "id": "574ef199",
   "metadata": {},
   "outputs": [
    {
     "name": "stdout",
     "output_type": "stream",
     "text": [
      "     10번 시도 시 동전의 앞면은      7번 이고 동전의 뒷면은      3번 입니다.\n",
      "    100번 시도 시 동전의 앞면은     40번 이고 동전의 뒷면은     60번 입니다.\n",
      "   1000번 시도 시 동전의 앞면은    503번 이고 동전의 뒷면은    497번 입니다.\n",
      "  10000번 시도 시 동전의 앞면은   5012번 이고 동전의 뒷면은   4988번 입니다.\n",
      " 100000번 시도 시 동전의 앞면은  49989번 이고 동전의 뒷면은  50011번 입니다.\n",
      "1000000번 시도 시 동전의 앞면은 499114번 이고 동전의 뒷면은 500886번 입니다.\n"
     ]
    }
   ],
   "source": [
    "coinF(10) # 이 함수에 결과 10번 받았다.\n",
    "coinF(100)\n",
    "coinF(1000)\n",
    "coinF(10000)\n",
    "coinF(100000)\n",
    "coinF(1000000)\n"
   ]
  },
  {
   "cell_type": "code",
   "execution_count": 92,
   "id": "50c4e9d2",
   "metadata": {},
   "outputs": [],
   "source": [
    "# 가위 바위 보 게임이 이길확률이 같다는 것을 증명\n",
    "\n",
    "def rock(n):\n",
    "    "
   ]
  },
  {
   "cell_type": "code",
   "execution_count": 93,
   "id": "d71ef464",
   "metadata": {},
   "outputs": [
    {
     "name": "stdout",
     "output_type": "stream",
     "text": [
      "['R']\n",
      "['P']\n"
     ]
    }
   ],
   "source": [
    "rock(2)"
   ]
  },
  {
   "cell_type": "code",
   "execution_count": null,
   "id": "fd1444b1",
   "metadata": {},
   "outputs": [],
   "source": []
  },
  {
   "cell_type": "code",
   "execution_count": null,
   "id": "75f8a707",
   "metadata": {},
   "outputs": [],
   "source": []
  },
  {
   "cell_type": "code",
   "execution_count": null,
   "id": "6b5ce83f",
   "metadata": {},
   "outputs": [],
   "source": []
  }
 ],
 "metadata": {
  "kernelspec": {
   "display_name": "Python 3",
   "language": "python",
   "name": "python3"
  },
  "language_info": {
   "codemirror_mode": {
    "name": "ipython",
    "version": 3
   },
   "file_extension": ".py",
   "mimetype": "text/x-python",
   "name": "python",
   "nbconvert_exporter": "python",
   "pygments_lexer": "ipython3",
   "version": "3.8.8"
  }
 },
 "nbformat": 4,
 "nbformat_minor": 5
}
