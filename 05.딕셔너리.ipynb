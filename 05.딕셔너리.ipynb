{
 "cells": [
  {
   "cell_type": "markdown",
   "id": "f53016af",
   "metadata": {},
   "source": [
    "# 딕셔너리 (Dictionary)\n",
    ": 순서가 정해있지 않고 key를 통해 value를 얻는다."
   ]
  },
  {
   "cell_type": "code",
   "execution_count": 2,
   "id": "1dca6ac3",
   "metadata": {},
   "outputs": [],
   "source": [
    "# Dictionary 생성하기\n",
    "dic = {'name' : 'petty', 'phone' : '010-1111-2222' , 'birth' : '1231' }"
   ]
  },
  {
   "cell_type": "code",
   "execution_count": 3,
   "id": "d507750e",
   "metadata": {},
   "outputs": [
    {
     "data": {
      "text/plain": [
       "'petty'"
      ]
     },
     "execution_count": 3,
     "metadata": {},
     "output_type": "execute_result"
    }
   ],
   "source": [
    "dic['name']"
   ]
  },
  {
   "cell_type": "code",
   "execution_count": 6,
   "id": "c84470b8",
   "metadata": {},
   "outputs": [
    {
     "name": "stdout",
     "output_type": "stream",
     "text": [
      "1231\n"
     ]
    },
    {
     "data": {
      "text/plain": [
       "'010-1111-2222'"
      ]
     },
     "execution_count": 6,
     "metadata": {},
     "output_type": "execute_result"
    }
   ],
   "source": [
    "print(dic['birth'])\n",
    "dic['phone']"
   ]
  },
  {
   "cell_type": "code",
   "execution_count": 17,
   "id": "fa513744",
   "metadata": {},
   "outputs": [
    {
     "name": "stdout",
     "output_type": "stream",
     "text": [
      "[1, 2, 3]\n",
      "1\n"
     ]
    }
   ],
   "source": [
    "dic1 = {'a' : [1,2,3]}\n",
    "print(dic1['a'])\n",
    "print(dic1['a'][0])"
   ]
  },
  {
   "cell_type": "code",
   "execution_count": 27,
   "id": "f4773165",
   "metadata": {},
   "outputs": [
    {
     "name": "stdout",
     "output_type": "stream",
     "text": [
      "{'a': [1, 2, 3], 'b': 'bbb', 'name': 'petty'}\n"
     ]
    }
   ],
   "source": [
    "dic1['b'] = 'bbb'\n",
    "dic1['name'] = 'petty'\n",
    "print(dic1)"
   ]
  },
  {
   "cell_type": "code",
   "execution_count": 28,
   "id": "2572a30f",
   "metadata": {},
   "outputs": [
    {
     "data": {
      "text/plain": [
       "{'a': [1, 2, 3], 'name': 'petty'}"
      ]
     },
     "execution_count": 28,
     "metadata": {},
     "output_type": "execute_result"
    }
   ],
   "source": [
    "del dic1['b']\n",
    "dic1"
   ]
  },
  {
   "cell_type": "markdown",
   "id": "439d385b",
   "metadata": {},
   "source": [
    "# 딕셔너리 관련함수"
   ]
  },
  {
   "cell_type": "code",
   "execution_count": 13,
   "id": "312ac56a",
   "metadata": {},
   "outputs": [
    {
     "data": {
      "text/plain": [
       "dict_keys(['name', 'phone', 'birth'])"
      ]
     },
     "execution_count": 13,
     "metadata": {},
     "output_type": "execute_result"
    }
   ],
   "source": [
    "dic = {'name' : 'petty', 'phone' : '010-1111-2222' , 'birth' : '1231' }\n",
    "dic.keys()\n"
   ]
  },
  {
   "cell_type": "code",
   "execution_count": 14,
   "id": "fda3ac79",
   "metadata": {},
   "outputs": [
    {
     "name": "stdout",
     "output_type": "stream",
     "text": [
      "name\n",
      "phone\n",
      "birth\n"
     ]
    }
   ],
   "source": [
    "for k in dic.keys():\n",
    "    print(k)"
   ]
  },
  {
   "cell_type": "code",
   "execution_count": 21,
   "id": "35a72b6d",
   "metadata": {},
   "outputs": [
    {
     "data": {
      "text/plain": [
       "'name'"
      ]
     },
     "execution_count": 21,
     "metadata": {},
     "output_type": "execute_result"
    }
   ],
   "source": [
    "# dic.keys를 list로 변환\n",
    "dic_list = list(dic.keys())\n",
    "dic_list[0]"
   ]
  },
  {
   "cell_type": "code",
   "execution_count": 22,
   "id": "b7f19f78",
   "metadata": {},
   "outputs": [
    {
     "data": {
      "text/plain": [
       "dict_values(['petty', '010-1111-2222', '1231'])"
      ]
     },
     "execution_count": 22,
     "metadata": {},
     "output_type": "execute_result"
    }
   ],
   "source": [
    "# Value\n",
    "dic.values()"
   ]
  },
  {
   "cell_type": "code",
   "execution_count": 23,
   "id": "2f5ca014",
   "metadata": {},
   "outputs": [
    {
     "data": {
      "text/plain": [
       "'petty'"
      ]
     },
     "execution_count": 23,
     "metadata": {},
     "output_type": "execute_result"
    }
   ],
   "source": [
    "dic_value = list(dic.values())\n",
    "dic_value[0]"
   ]
  },
  {
   "cell_type": "code",
   "execution_count": 24,
   "id": "1a68a36b",
   "metadata": {},
   "outputs": [
    {
     "data": {
      "text/plain": [
       "dict_items([('name', 'petty'), ('phone', '010-1111-2222'), ('birth', '1231')])"
      ]
     },
     "execution_count": 24,
     "metadata": {},
     "output_type": "execute_result"
    }
   ],
   "source": [
    "# key와 Values를 함께 얻기\n",
    "dic.items()"
   ]
  },
  {
   "cell_type": "code",
   "execution_count": 26,
   "id": "14b90926",
   "metadata": {},
   "outputs": [
    {
     "name": "stdout",
     "output_type": "stream",
     "text": [
      "name : petty\n",
      "phone : 010-1111-2222\n",
      "birth : 1231\n"
     ]
    }
   ],
   "source": [
    "for i in dic.items():\n",
    "    print(i[0], \":\", i[1])"
   ]
  },
  {
   "cell_type": "code",
   "execution_count": 45,
   "id": "f520f0b4",
   "metadata": {},
   "outputs": [
    {
     "name": "stdout",
     "output_type": "stream",
     "text": [
      "[('name', 'petty'), ('phone', '010-1111-2222'), ('birth', '1231')]\n",
      "name : petty\n",
      "phone : 010-1111-2222\n",
      "birth : 1231\n",
      "name : petty\n"
     ]
    }
   ],
   "source": [
    "# dic.items를 list로 변환하기\n",
    "dic_items_list = list(dic.items())\n",
    "dic_items_list\n",
    "print(dic_items_list)\n",
    "# name : petty\n",
    "\n",
    "for i in range(0, len(dic_items_list)):\n",
    "    print(dic_items_list[i][0] + ' : ' + dic_items_list[i][1])\n",
    "\n",
    "\n",
    "print(dic_items_list[0][0] + ' : ' + dic_items_list[0][1])"
   ]
  },
  {
   "cell_type": "code",
   "execution_count": 47,
   "id": "b4a01310",
   "metadata": {},
   "outputs": [
    {
     "data": {
      "text/plain": [
       "{}"
      ]
     },
     "execution_count": 47,
     "metadata": {},
     "output_type": "execute_result"
    }
   ],
   "source": [
    "# 지우기\n",
    "dic.clear()\n",
    "dic"
   ]
  },
  {
   "cell_type": "code",
   "execution_count": 49,
   "id": "57f741d3",
   "metadata": {},
   "outputs": [],
   "source": [
    "dic = {'name' : 'petty', 'phone' : '010-1111-2222' , 'birth' : '1231' }"
   ]
  },
  {
   "cell_type": "code",
   "execution_count": 51,
   "id": "4d66e737",
   "metadata": {},
   "outputs": [
    {
     "name": "stdout",
     "output_type": "stream",
     "text": [
      "True\n",
      "False\n"
     ]
    }
   ],
   "source": [
    "print('name' in dic) # name이라는 애가 dic에 있냐?\n",
    "print('mail' in dic)"
   ]
  }
 ],
 "metadata": {
  "kernelspec": {
   "display_name": "Python 3",
   "language": "python",
   "name": "python3"
  },
  "language_info": {
   "codemirror_mode": {
    "name": "ipython",
    "version": 3
   },
   "file_extension": ".py",
   "mimetype": "text/x-python",
   "name": "python",
   "nbconvert_exporter": "python",
   "pygments_lexer": "ipython3",
   "version": "3.8.8"
  }
 },
 "nbformat": 4,
 "nbformat_minor": 5
}
