{
 "cells": [
  {
   "cell_type": "markdown",
   "id": "a9f7ebf4",
   "metadata": {},
   "source": [
    "# 리스트 ( list = 배열) 자료형\n",
    "- 숫자나 문자들의 모음을 하나의 자료형으로 표현하기 위해 사용\n",
    "- format : listName = [e1, e2, ...]"
   ]
  },
  {
   "cell_type": "markdown",
   "id": "04a42796",
   "metadata": {},
   "source": [
    "## 리스트 자료형 선언"
   ]
  },
  {
   "cell_type": "code",
   "execution_count": 4,
   "id": "1cbc47a8",
   "metadata": {},
   "outputs": [],
   "source": [
    "var01 = []\n",
    "var02 = [1,2,3]\n",
    "var03 = ['I', \"have\", 'a', 'dream']\n",
    "var04 = [1, 2, 'dream', 'True']\n",
    "var05 = [1, 2, ['Dream', \"True\"]] # 이차원 배열"
   ]
  },
  {
   "cell_type": "markdown",
   "id": "18748d16",
   "metadata": {},
   "source": [
    "# 리스트의 indexing과 Slicing"
   ]
  },
  {
   "cell_type": "code",
   "execution_count": 11,
   "id": "f3947f43",
   "metadata": {
    "collapsed": true
   },
   "outputs": [
    {
     "name": "stdout",
     "output_type": "stream",
     "text": [
      "[]\n",
      "[1, 2, 3]\n",
      "['I', 'have', 'a', 'drea']\n",
      "[1, 2, 'dream', 'True']\n",
      "[1, 2, ['Dream', 'True']]\n",
      "['Dream', 'True']\n",
      "Dream\n"
     ]
    }
   ],
   "source": [
    "print(var01)\n",
    "print(var02)\n",
    "print(var03)\n",
    "print(var04)\n",
    "print(var05)\n",
    "\n",
    "print(var05[2])\n",
    "print(var05[2][0])"
   ]
  },
  {
   "cell_type": "code",
   "execution_count": 12,
   "id": "5343905c",
   "metadata": {},
   "outputs": [
    {
     "data": {
      "text/plain": [
       "3"
      ]
     },
     "execution_count": 12,
     "metadata": {},
     "output_type": "execute_result"
    }
   ],
   "source": [
    "# 리스트의 계산\n",
    "var02[0] + var02[1]"
   ]
  },
  {
   "cell_type": "code",
   "execution_count": 21,
   "id": "21ab2abe",
   "metadata": {},
   "outputs": [
    {
     "name": "stdout",
     "output_type": "stream",
     "text": [
      "Dream\n",
      "Dream\n",
      "Dream\n"
     ]
    }
   ],
   "source": [
    "# 3중 리스트에서 indexing 에서 Dream만 출력하기\n",
    "var = [1, 2, ['a', 'b', ['Dream', \"True\"]]]\n",
    "\n",
    "print(var[2][2][0])\n",
    "print(var[-1][-1][-2])\n",
    "print(var[-1][-1][0])"
   ]
  },
  {
   "cell_type": "code",
   "execution_count": 23,
   "id": "4c54a4bb",
   "metadata": {},
   "outputs": [
    {
     "name": "stdout",
     "output_type": "stream",
     "text": [
      "[['a', 'b', ['Dream', 'True']]]\n",
      "a\n"
     ]
    }
   ],
   "source": [
    "print(var[2:])"
   ]
  },
  {
   "cell_type": "markdown",
   "id": "1bdba144",
   "metadata": {},
   "source": [
    "# 리스트 연산"
   ]
  },
  {
   "cell_type": "code",
   "execution_count": 37,
   "id": "cb06d05f",
   "metadata": {},
   "outputs": [
    {
     "data": {
      "text/plain": [
       "[1, 2, 3, 4, 5, 6]"
      ]
     },
     "execution_count": 37,
     "metadata": {},
     "output_type": "execute_result"
    }
   ],
   "source": [
    "# 리스트의 숫자 합치기\n",
    "var01 = [1,2,3]\n",
    "var02 = [4,5,6]\n",
    "var01 + var02"
   ]
  },
  {
   "cell_type": "code",
   "execution_count": 29,
   "id": "0b07de79",
   "metadata": {},
   "outputs": [
    {
     "name": "stdout",
     "output_type": "stream",
     "text": [
      "5\n",
      "7\n",
      "9\n",
      "-3\n",
      "-3\n",
      "-3\n",
      "3\n",
      "3\n",
      "3\n"
     ]
    }
   ],
   "source": [
    "#리스트의 덧셈\n",
    "for i in range(0, 3):\n",
    "    print(var01[i] + var02 [i])\n",
    "for i in range(0, 3):\n",
    "    print(var01[i] - var02[i])\n",
    "for i in range(0, 3):\n",
    "    print(var02[i] - var01[i])"
   ]
  },
  {
   "cell_type": "code",
   "execution_count": 43,
   "id": "0a203996",
   "metadata": {},
   "outputs": [
    {
     "data": {
      "text/plain": [
       "[1, 2, 3, 1, 2, 3, 1, 2, 3]"
      ]
     },
     "execution_count": 43,
     "metadata": {},
     "output_type": "execute_result"
    }
   ],
   "source": [
    "# 리스트의 숫자 반복\n",
    "var01 * 3"
   ]
  },
  {
   "cell_type": "code",
   "execution_count": 52,
   "id": "4b1b4ee7",
   "metadata": {},
   "outputs": [
    {
     "name": "stdout",
     "output_type": "stream",
     "text": [
      "[1, 2, 3]\n",
      "10\n",
      "20\n",
      "30\n"
     ]
    }
   ],
   "source": [
    "# 리스트의 곱셈\n",
    "# var01의 data를 10 배 계산하여 출력하기\n",
    "#10\n",
    "#20\n",
    "#30\n",
    "print(var01)\n",
    "for i in var01:\n",
    "    print(var01[i-1] * 10)"
   ]
  },
  {
   "cell_type": "code",
   "execution_count": 57,
   "id": "47ddfed7",
   "metadata": {},
   "outputs": [
    {
     "name": "stdout",
     "output_type": "stream",
     "text": [
      "3hi!\n"
     ]
    }
   ],
   "source": [
    "# 리스트의 타입 변환\n",
    "var = [1, 2, 3]\n",
    "print(str(var[2]) + \"hi!\")"
   ]
  },
  {
   "cell_type": "code",
   "execution_count": 59,
   "id": "0528a075",
   "metadata": {},
   "outputs": [
    {
     "name": "stdout",
     "output_type": "stream",
     "text": [
      "<class 'str'>\n",
      "<class 'int'>\n"
     ]
    }
   ],
   "source": [
    "temp = '123'\n",
    "type(temp)\n",
    "print(type(temp))\n",
    "temp1 = int(temp)\n",
    "type(temp1)\n",
    "print(type(temp1))"
   ]
  },
  {
   "cell_type": "markdown",
   "id": "da055126",
   "metadata": {},
   "source": [
    "# 리스트의 수정과 삭제 "
   ]
  },
  {
   "cell_type": "code",
   "execution_count": 80,
   "id": "00d759a2",
   "metadata": {},
   "outputs": [
    {
     "data": {
      "text/plain": [
       "[1, 2, 4]"
      ]
     },
     "execution_count": 80,
     "metadata": {},
     "output_type": "execute_result"
    }
   ],
   "source": [
    "var = [1,2,3]\n",
    "var[2] = 4\n",
    "var"
   ]
  },
  {
   "cell_type": "code",
   "execution_count": 81,
   "id": "abd55cd6",
   "metadata": {},
   "outputs": [
    {
     "data": {
      "text/plain": [
       "[1, 'a', 'b', 'c', 4]"
      ]
     },
     "execution_count": 81,
     "metadata": {},
     "output_type": "execute_result"
    }
   ],
   "source": [
    "var[1:2] = ['a', 'b', 'c']\n",
    "var"
   ]
  },
  {
   "cell_type": "code",
   "execution_count": null,
   "id": "c5a64944",
   "metadata": {},
   "outputs": [],
   "source": [
    "#### 1 ~ 2 번지의 데이터를 지우기\n",
    "del var[1:3] # == var[1:3] = []\n",
    "var"
   ]
  },
  {
   "cell_type": "code",
   "execution_count": 83,
   "id": "ad8529cd",
   "metadata": {},
   "outputs": [
    {
     "data": {
      "text/plain": [
       "[1, 2, 3, 4]"
      ]
     },
     "execution_count": 83,
     "metadata": {},
     "output_type": "execute_result"
    }
   ],
   "source": [
    "# 리스트에 요소 추가\n",
    "var = [1,2,3]\n",
    "var.append(4)\n",
    "var"
   ]
  },
  {
   "cell_type": "code",
   "execution_count": 85,
   "id": "e54a8cf5",
   "metadata": {},
   "outputs": [
    {
     "data": {
      "text/plain": [
       "[1, 2, 3, 4, [5, 6]]"
      ]
     },
     "execution_count": 85,
     "metadata": {},
     "output_type": "execute_result"
    }
   ],
   "source": [
    "var.append([5,6])\n",
    "var"
   ]
  },
  {
   "cell_type": "code",
   "execution_count": 97,
   "id": "075abaac",
   "metadata": {
    "scrolled": true
   },
   "outputs": [
    {
     "name": "stdout",
     "output_type": "stream",
     "text": [
      "[1, 4, 3, 2]\n",
      "[1, 2, 3, 4]\n",
      "[4, 3, 2, 1]\n",
      "4\n",
      "1\n"
     ]
    }
   ],
   "source": [
    "# 리스트의 정렬\n",
    "var = [1,4,3,2]\n",
    "print(var)\n",
    "\n",
    "# 오름차순\n",
    "var.sort()\n",
    "print(var)\n",
    "\n",
    "#내림차순\n",
    "var.reverse()\n",
    "print(var)\n",
    "\n",
    "print(max(var))\n",
    "print(min(var))"
   ]
  },
  {
   "cell_type": "raw",
   "id": "c29de093",
   "metadata": {},
   "source": [
    "# 리스트의 문자 정렬 : 한글\n",
    "var = ['대', '한', '민', '국']\n",
    "\n",
    "print(var)\n",
    "#오름차순 정렬\n",
    "var.sort()\n",
    "print(var)\n",
    "# 내림차순 정렬\n",
    "var.reverse()\n",
    "print(var)"
   ]
  },
  {
   "cell_type": "code",
   "execution_count": 100,
   "id": "f1f489d3",
   "metadata": {},
   "outputs": [
    {
     "data": {
      "text/plain": [
       "1"
      ]
     },
     "execution_count": 100,
     "metadata": {},
     "output_type": "execute_result"
    }
   ],
   "source": [
    "# 리스트의 위치 정보\n",
    "var = [4,5,6]\n",
    "var.index(5) # 5번지가 아니라 5라는data가 몇번지에 있는지 찾는 "
   ]
  },
  {
   "cell_type": "code",
   "execution_count": 101,
   "id": "7326702a",
   "metadata": {},
   "outputs": [
    {
     "data": {
      "text/plain": [
       "[4, 1, 2, 3]"
      ]
     },
     "execution_count": 101,
     "metadata": {},
     "output_type": "execute_result"
    }
   ],
   "source": [
    "#리스트의 요소 삽입\n",
    "var = [1,2,3]\n",
    "var.insert(0, 4)\n",
    "var\n",
    "\n",
    "#append는 뒤에 붙는 것. 인서트는 원하는 위치에"
   ]
  },
  {
   "cell_type": "code",
   "execution_count": 102,
   "id": "b1f55c1a",
   "metadata": {},
   "outputs": [
    {
     "data": {
      "text/plain": [
       "[1, 2, 3, 5, 6]"
      ]
     },
     "execution_count": 102,
     "metadata": {},
     "output_type": "execute_result"
    }
   ],
   "source": [
    "# 리스트에 요소 제거\n",
    "var = [1,2,3,4,5,6]\n",
    "# 데이터 (요소)가 4인 것을 제거\n",
    "var.remove(4)\n",
    "var"
   ]
  },
  {
   "cell_type": "code",
   "execution_count": 109,
   "id": "cb98b521",
   "metadata": {},
   "outputs": [
    {
     "name": "stdout",
     "output_type": "stream",
     "text": [
      "3\n",
      "[1, 2]\n",
      "2\n",
      "[1]\n"
     ]
    }
   ],
   "source": [
    "# 리스트 요소 끄집어 내기\n",
    "var = [1,2,3]\n",
    "print(var.pop())\n",
    "print(var)\n",
    "print(var.pop())\n",
    "print(var)"
   ]
  },
  {
   "cell_type": "code",
   "execution_count": 110,
   "id": "0fa1251f",
   "metadata": {},
   "outputs": [
    {
     "name": "stdout",
     "output_type": "stream",
     "text": [
      "3\n",
      "2\n",
      "1\n",
      "[]\n"
     ]
    }
   ],
   "source": [
    "# for문을 사용한 pop\n",
    "var = [1,2,3]\n",
    "\n",
    "for i in range(0, 3):\n",
    "    print(var.pop())\n",
    "    \n",
    "print(var)"
   ]
  },
  {
   "cell_type": "code",
   "execution_count": 114,
   "id": "6134728f",
   "metadata": {},
   "outputs": [
    {
     "data": {
      "text/plain": [
       "[1, 2, 3, 4, 5, 6]"
      ]
     },
     "execution_count": 114,
     "metadata": {},
     "output_type": "execute_result"
    }
   ],
   "source": [
    "# 리스트의 확장\n",
    "var = [1,2,3,4]\n",
    "var1 = [5,6]\n",
    "var.extend(var1)\n",
    "var"
   ]
  }
 ],
 "metadata": {
  "kernelspec": {
   "display_name": "Python 3",
   "language": "python",
   "name": "python3"
  },
  "language_info": {
   "codemirror_mode": {
    "name": "ipython",
    "version": 3
   },
   "file_extension": ".py",
   "mimetype": "text/x-python",
   "name": "python",
   "nbconvert_exporter": "python",
   "pygments_lexer": "ipython3",
   "version": "3.8.8"
  }
 },
 "nbformat": 4,
 "nbformat_minor": 5
}
