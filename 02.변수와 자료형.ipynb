{
 "cells": [
  {
   "cell_type": "markdown",
   "id": "635b7306",
   "metadata": {},
   "source": [
    "# --- 변수와 자료형 ---\n",
    "\n",
    "## 변수\n",
    "계산에 필요한 자료를 일시적으로 저장하거나 처리결과를 담을 수 있는 기억자소를 지정해 주는 역할<br>\n",
    "변수 이름은 값을 지정하는 메모리 영역의 이름으로 할당 . #space 3번이면 한줄 띄기\n",
    "\n",
    "## 변수 이름의 작성 규칙\n",
    "- 첫자는 영문으로 시작.   \n",
    "- 첫자를 제회하고 숫자, under bar, dot을 사용할 수 있음   \n",
    "- 대문자와 소문자를 구분.   \n",
    "- 변수 이름은 의미를 파악할 수 있는 이름으로 지정하는 것이 좋음.\n",
    "- 두 단어를 포함한 변수 이름을 지정할 경우 두번째 단어의 첫자는 대문자로 표시(camel methid)나 under bar(snake method)로 표시하는 것이 가독성에 좋음.   "
   ]
  },
  {
   "cell_type": "markdown",
   "id": "76ae5b0a",
   "metadata": {},
   "source": [
    "# 자료형\n",
    "\n",
    "## 숫자 자료형"
   ]
  },
  {
   "cell_type": "code",
   "execution_count": 1,
   "id": "a93c62ab",
   "metadata": {},
   "outputs": [
    {
     "name": "stdout",
     "output_type": "stream",
     "text": [
      "0\n"
     ]
    },
    {
     "data": {
      "text/plain": [
       "0"
      ]
     },
     "execution_count": 1,
     "metadata": {},
     "output_type": "execute_result"
    }
   ],
   "source": [
    "# 정수형\n",
    "\n",
    "var01 = 123\n",
    "var03 = -17\n",
    "var01 = 0\n",
    "\n",
    "print(var01) #파이썬에서 출력하기\n",
    "var01 # 주피터 노트북이 해주는 기능"
   ]
  },
  {
   "cell_type": "code",
   "execution_count": 2,
   "id": "a8155c6e",
   "metadata": {},
   "outputs": [
    {
     "data": {
      "text/plain": [
       "-12.34"
      ]
     },
     "execution_count": 2,
     "metadata": {},
     "output_type": "execute_result"
    }
   ],
   "source": [
    "# 실수형\n",
    "\n",
    "var02 = 1.2\n",
    "var02 = -12.34\n",
    "\n",
    "var02"
   ]
  },
  {
   "cell_type": "code",
   "execution_count": 3,
   "id": "493b1332",
   "metadata": {},
   "outputs": [
    {
     "name": "stdout",
     "output_type": "stream",
     "text": [
      "덧셈:  7\n",
      "뺄셈:  -1\n",
      "곱셈:  12\n",
      "실수나눗셈:  0.75\n",
      "정수 나눗셈 몫:  0\n",
      "정수 나눗셈 나머지:  3\n",
      "제곱:  9\n",
      "제곱:  9\n"
     ]
    }
   ],
   "source": [
    "# 연산자\n",
    "\n",
    "var01 = 3\n",
    "var02 = 4\n",
    "print('덧셈: ', var01 + var02)\n",
    "print('뺄셈: ', var01 - var02)\n",
    "print('곱셈: ', var01 * var02)\n",
    "print('실수나눗셈: ', var01 / var02)\n",
    "print('정수 나눗셈 몫: ', var01 // var02)\n",
    "print('정수 나눗셈 나머지: ', var01 % var02)\n",
    "print('제곱: ', var01**2)\n",
    "print('제곱: ', pow(var01, 2)) #파이썬에서 제공하는 함수 기능"
   ]
  },
  {
   "cell_type": "markdown",
   "id": "4546ef6a",
   "metadata": {},
   "source": [
    "## 파이썬 모듈을 이용한 수학계산"
   ]
  },
  {
   "cell_type": "code",
   "execution_count": 4,
   "id": "5b1f673a",
   "metadata": {},
   "outputs": [],
   "source": [
    "# 수학계산 모듈 불러오기\n",
    "import math"
   ]
  },
  {
   "cell_type": "code",
   "execution_count": 5,
   "id": "1a3bcd1c",
   "metadata": {},
   "outputs": [
    {
     "data": {
      "text/plain": [
       "9.0"
      ]
     },
     "execution_count": 5,
     "metadata": {},
     "output_type": "execute_result"
    }
   ],
   "source": [
    "#거듭제곱\n",
    "math.pow(var01, 2) #기본적으로 실수로 출력"
   ]
  },
  {
   "cell_type": "code",
   "execution_count": 6,
   "id": "7f784457",
   "metadata": {},
   "outputs": [
    {
     "data": {
      "text/plain": [
       "1.7320508075688772"
      ]
     },
     "execution_count": 6,
     "metadata": {},
     "output_type": "execute_result"
    }
   ],
   "source": [
    "# 제곱근 구하기\n",
    "math.sqrt(var01)"
   ]
  },
  {
   "cell_type": "code",
   "execution_count": 7,
   "id": "dc6a8474",
   "metadata": {},
   "outputs": [
    {
     "data": {
      "text/plain": [
       "0.8509035245341184"
      ]
     },
     "execution_count": 7,
     "metadata": {},
     "output_type": "execute_result"
    }
   ],
   "source": [
    "#sin(45)\n",
    "math.sin(45)"
   ]
  },
  {
   "cell_type": "code",
   "execution_count": 8,
   "id": "887b3005",
   "metadata": {},
   "outputs": [
    {
     "data": {
      "text/plain": [
       "1.0"
      ]
     },
     "execution_count": 8,
     "metadata": {},
     "output_type": "execute_result"
    }
   ],
   "source": [
    "#sin(45)의 제곱 + con(45)제곱\n",
    "\n",
    "math.pow(math.sin(45), 2) + math.pow(math.cos(45), 2)"
   ]
  },
  {
   "cell_type": "markdown",
   "id": "9003836e",
   "metadata": {},
   "source": [
    "# 난수 발생"
   ]
  },
  {
   "cell_type": "code",
   "execution_count": 4,
   "id": "3c59d560",
   "metadata": {},
   "outputs": [],
   "source": [
    "import random"
   ]
  },
  {
   "cell_type": "code",
   "execution_count": 10,
   "id": "ba321056",
   "metadata": {},
   "outputs": [
    {
     "data": {
      "text/plain": [
       "6"
      ]
     },
     "execution_count": 10,
     "metadata": {},
     "output_type": "execute_result"
    }
   ],
   "source": [
    "random.randint(1, 100) #정수형 인수"
   ]
  },
  {
   "cell_type": "code",
   "execution_count": 11,
   "id": "44adc9b6",
   "metadata": {},
   "outputs": [
    {
     "data": {
      "text/plain": [
       "[2, 3, 5]"
      ]
     },
     "execution_count": 11,
     "metadata": {},
     "output_type": "execute_result"
    }
   ],
   "source": [
    "rlist = [1, 2, 3, 4, 5]\n",
    "random.sample(rlist, 3)"
   ]
  },
  {
   "cell_type": "code",
   "execution_count": 12,
   "id": "664096a0",
   "metadata": {
    "scrolled": true
   },
   "outputs": [
    {
     "name": "stdout",
     "output_type": "stream",
     "text": [
      "1\n",
      "2\n",
      "3\n",
      "4\n",
      "5\n",
      "6\n",
      "7\n",
      "8\n",
      "9\n",
      "10\n",
      "11\n",
      "12\n",
      "13\n",
      "14\n",
      "15\n",
      "16\n",
      "17\n",
      "18\n",
      "19\n",
      "20\n",
      "21\n",
      "22\n",
      "23\n",
      "24\n",
      "25\n",
      "26\n",
      "27\n",
      "28\n",
      "29\n",
      "30\n",
      "31\n",
      "32\n",
      "33\n",
      "34\n",
      "35\n",
      "36\n",
      "37\n",
      "38\n",
      "39\n",
      "40\n",
      "41\n",
      "42\n",
      "43\n",
      "44\n",
      "45\n",
      "46\n",
      "47\n",
      "48\n",
      "49\n",
      "50\n",
      "51\n",
      "52\n",
      "53\n",
      "54\n",
      "55\n",
      "56\n",
      "57\n",
      "58\n",
      "59\n",
      "60\n",
      "61\n",
      "62\n",
      "63\n",
      "64\n",
      "65\n",
      "66\n",
      "67\n",
      "68\n",
      "69\n",
      "70\n",
      "71\n",
      "72\n",
      "73\n",
      "74\n",
      "75\n",
      "76\n",
      "77\n",
      "78\n",
      "79\n",
      "80\n",
      "81\n",
      "82\n",
      "83\n",
      "84\n",
      "85\n",
      "86\n",
      "87\n",
      "88\n",
      "89\n",
      "90\n",
      "91\n",
      "92\n",
      "93\n",
      "94\n",
      "95\n",
      "96\n",
      "97\n",
      "98\n",
      "99\n",
      "100\n"
     ]
    }
   ],
   "source": [
    "alist = range(1, 101) # 1부터 100까지 내가 다 적을 수 없으니까\n",
    "for i in alist:\n",
    "    print(i)"
   ]
  },
  {
   "cell_type": "code",
   "execution_count": 6,
   "id": "2c0b7e7c",
   "metadata": {},
   "outputs": [
    {
     "data": {
      "text/plain": [
       "[13, 15, 20, 7, 5, 28]"
      ]
     },
     "execution_count": 6,
     "metadata": {},
     "output_type": "execute_result"
    }
   ],
   "source": [
    "#로또 자동번호 생성기\n",
    "alist = range(1, 46)\n",
    "\n",
    "random.sample(alist, 6)"
   ]
  },
  {
   "cell_type": "code",
   "execution_count": 14,
   "id": "2a067754",
   "metadata": {},
   "outputs": [
    {
     "data": {
      "text/plain": [
       "['양식']"
      ]
     },
     "execution_count": 14,
     "metadata": {},
     "output_type": "execute_result"
    }
   ],
   "source": [
    "mlist = [ '한식', '일식', '중식', '양식', '분식']\n",
    "random.sample(mlist, 1)"
   ]
  },
  {
   "cell_type": "code",
   "execution_count": 15,
   "id": "3b24eb6e",
   "metadata": {},
   "outputs": [
    {
     "data": {
      "text/plain": [
       "['In',\n",
       " 'Out',\n",
       " '_',\n",
       " '_1',\n",
       " '_10',\n",
       " '_11',\n",
       " '_13',\n",
       " '_14',\n",
       " '_2',\n",
       " '_5',\n",
       " '_6',\n",
       " '_7',\n",
       " '_8',\n",
       " '__',\n",
       " '___',\n",
       " '__builtin__',\n",
       " '__builtins__',\n",
       " '__doc__',\n",
       " '__loader__',\n",
       " '__name__',\n",
       " '__package__',\n",
       " '__spec__',\n",
       " '_dh',\n",
       " '_i',\n",
       " '_i1',\n",
       " '_i10',\n",
       " '_i11',\n",
       " '_i12',\n",
       " '_i13',\n",
       " '_i14',\n",
       " '_i15',\n",
       " '_i2',\n",
       " '_i3',\n",
       " '_i4',\n",
       " '_i5',\n",
       " '_i6',\n",
       " '_i7',\n",
       " '_i8',\n",
       " '_i9',\n",
       " '_ih',\n",
       " '_ii',\n",
       " '_iii',\n",
       " '_oh',\n",
       " 'alist',\n",
       " 'exit',\n",
       " 'get_ipython',\n",
       " 'i',\n",
       " 'math',\n",
       " 'mlist',\n",
       " 'quit',\n",
       " 'random',\n",
       " 'rlist',\n",
       " 'var01',\n",
       " 'var02',\n",
       " 'var03']"
      ]
     },
     "execution_count": 15,
     "metadata": {},
     "output_type": "execute_result"
    }
   ],
   "source": [
    "# 메모리에 있는 변수 보기\n",
    "dir()"
   ]
  },
  {
   "cell_type": "code",
   "execution_count": 18,
   "id": "721cc28a",
   "metadata": {},
   "outputs": [
    {
     "ename": "NameError",
     "evalue": "name 'var01' is not defined",
     "output_type": "error",
     "traceback": [
      "\u001b[1;31m---------------------------------------------------------------------------\u001b[0m",
      "\u001b[1;31mNameError\u001b[0m                                 Traceback (most recent call last)",
      "\u001b[1;32m<ipython-input-18-eda91996c985>\u001b[0m in \u001b[0;36m<module>\u001b[1;34m\u001b[0m\n\u001b[0;32m      1\u001b[0m \u001b[1;31m#메모리에 있는 변수 지우기\u001b[0m\u001b[1;33m\u001b[0m\u001b[1;33m\u001b[0m\u001b[1;33m\u001b[0m\u001b[0m\n\u001b[1;32m----> 2\u001b[1;33m \u001b[1;32mdel\u001b[0m \u001b[0mvar01\u001b[0m\u001b[1;33m\u001b[0m\u001b[1;33m\u001b[0m\u001b[0m\n\u001b[0m\u001b[0;32m      3\u001b[0m \u001b[0mvar01\u001b[0m\u001b[1;33m\u001b[0m\u001b[1;33m\u001b[0m\u001b[0m\n",
      "\u001b[1;31mNameError\u001b[0m: name 'var01' is not defined"
     ]
    }
   ],
   "source": [
    "#메모리에 있는 변수 지우기\n",
    "del var01\n",
    "var01"
   ]
  },
  {
   "cell_type": "markdown",
   "id": "4b257b56",
   "metadata": {},
   "source": [
    "# 관계연산자"
   ]
  },
  {
   "cell_type": "code",
   "execution_count": 19,
   "id": "de586040",
   "metadata": {},
   "outputs": [],
   "source": [
    "num1 = 100\n",
    "num2 = 20"
   ]
  },
  {
   "cell_type": "code",
   "execution_count": 21,
   "id": "6f2b2a8a",
   "metadata": {},
   "outputs": [
    {
     "name": "stdout",
     "output_type": "stream",
     "text": [
      "False\n",
      "True\n"
     ]
    }
   ],
   "source": [
    "#동등비교\n",
    "print(num1 == num2)\n",
    "print(num1 != num2)"
   ]
  },
  {
   "cell_type": "code",
   "execution_count": 25,
   "id": "75eebcbe",
   "metadata": {},
   "outputs": [
    {
     "name": "stdout",
     "output_type": "stream",
     "text": [
      "True\n",
      "False\n",
      "True\n",
      "False\n"
     ]
    }
   ],
   "source": [
    "# 크기비교\n",
    "print(num1 > num2)\n",
    "print(num1 < num2)\n",
    "print(num1 >- num2)\n",
    "print(num1 <= num2)\n",
    "\n",
    "#둘다 변수로만 작성하면 맨끝결과만 보이게된다."
   ]
  },
  {
   "cell_type": "markdown",
   "id": "71779e58",
   "metadata": {},
   "source": [
    "# 논리연산자"
   ]
  },
  {
   "cell_type": "code",
   "execution_count": 28,
   "id": "db608193",
   "metadata": {},
   "outputs": [
    {
     "name": "stdout",
     "output_type": "stream",
     "text": [
      "False\n",
      "True\n"
     ]
    }
   ],
   "source": [
    "# And , or\n",
    "print ((num1 >= 50) & (num2 <= 10))\n",
    "print ((num1 >= 50) | (num2 <= 10))"
   ]
  },
  {
   "cell_type": "code",
   "execution_count": 30,
   "id": "d04c8a07",
   "metadata": {},
   "outputs": [
    {
     "data": {
      "text/plain": [
       "False"
      ]
     },
     "execution_count": 30,
     "metadata": {},
     "output_type": "execute_result"
    }
   ],
   "source": [
    "# 부정 연산자\n",
    "\n",
    "#num1 >= 50  # 이 값의 반대 값을 원할 때\n",
    "\n",
    "not(num1 >= 50)"
   ]
  },
  {
   "cell_type": "markdown",
   "id": "b37852ae",
   "metadata": {},
   "source": [
    "# 문자열 자료형"
   ]
  },
  {
   "cell_type": "code",
   "execution_count": 37,
   "id": "6e2be9d4",
   "metadata": {},
   "outputs": [
    {
     "data": {
      "text/plain": [
       "'Hello World!'"
      ]
     },
     "execution_count": 37,
     "metadata": {},
     "output_type": "execute_result"
    }
   ],
   "source": [
    "var01 = \"Hello World!\"\n",
    "var01"
   ]
  },
  {
   "cell_type": "code",
   "execution_count": 40,
   "id": "0207de8f",
   "metadata": {},
   "outputs": [
    {
     "name": "stdout",
     "output_type": "stream",
     "text": [
      "\n",
      "        Hello World!\n",
      "        Good to meet you\n",
      "\n"
     ]
    }
   ],
   "source": [
    "# 여러줄의 문자열 출력\n",
    "\n",
    "var01 = \"\"\"\n",
    "        Hello World!\n",
    "        Good to meet you\n",
    "\"\"\"\n",
    "print(var01) # var01만 쓰게되면 \\n 이런거 다 나옴\n"
   ]
  },
  {
   "cell_type": "code",
   "execution_count": 46,
   "id": "130369a6",
   "metadata": {},
   "outputs": [
    {
     "name": "stdout",
     "output_type": "stream",
     "text": [
      "쌍따옴표는 '이렇게' 사용하는거야\n",
      "My father's wife is my mother\n",
      "He says \"I love you\"\n"
     ]
    }
   ],
   "source": [
    "# 쌍따옴표와 홑따옴표의 사용\n",
    "\n",
    "var01 = \"쌍따옴표는 '이렇게' 사용하는거야\"\n",
    "print(var01)\n",
    "var02 = \"My father's wife is my mother\"\n",
    "print(var02)\n",
    "var03 = 'He says \"I love you\"'\n",
    "print(var03)"
   ]
  },
  {
   "cell_type": "code",
   "execution_count": 48,
   "id": "94edf8c3",
   "metadata": {},
   "outputs": [
    {
     "name": "stdout",
     "output_type": "stream",
     "text": [
      "aaa\n",
      "bbb\n",
      "aaa\tbbb\n"
     ]
    }
   ],
   "source": [
    "# 특수문자를 사용한 출력\n",
    "var03 = 'aaa\\nbbb'\n",
    "var04 = 'aaa\\tbbb'\n",
    "\n",
    "print(var03)\n",
    "print(var04)"
   ]
  },
  {
   "cell_type": "code",
   "execution_count": 52,
   "id": "fa57fbea",
   "metadata": {},
   "outputs": [
    {
     "name": "stdout",
     "output_type": "stream",
     "text": [
      "Pythonis fun.\n",
      "Python is fun.\n"
     ]
    }
   ],
   "source": [
    "# 문자열 연산(덧셈)\n",
    "var01 = 'Python'\n",
    "var02 = 'is fun.'\n",
    "print(var01 + var02)\n",
    "print(var01, var02) # 문자열 띄어쓰기"
   ]
  },
  {
   "cell_type": "code",
   "execution_count": 53,
   "id": "463a76c4",
   "metadata": {},
   "outputs": [
    {
     "name": "stdout",
     "output_type": "stream",
     "text": [
      "PythonPythonPython\n"
     ]
    }
   ],
   "source": [
    "# 문자열 연산(곱셈)\n",
    "print(var01 * 3)"
   ]
  },
  {
   "cell_type": "markdown",
   "id": "d13924f0",
   "metadata": {},
   "source": [
    "==========================   \n",
    "Python   \n",
    "=========================="
   ]
  },
  {
   "cell_type": "code",
   "execution_count": 54,
   "id": "ef5fa106",
   "metadata": {},
   "outputs": [
    {
     "name": "stdout",
     "output_type": "stream",
     "text": [
      "====================\n",
      "Python\n",
      "====================\n"
     ]
    }
   ],
   "source": [
    "print(\"=\" * 20)\n",
    "print('Python')\n",
    "print('=' * 20)"
   ]
  },
  {
   "cell_type": "code",
   "execution_count": 64,
   "id": "a7936d84",
   "metadata": {},
   "outputs": [
    {
     "name": "stdout",
     "output_type": "stream",
     "text": [
      "a\n",
      "abc\n",
      "n\n",
      "fghijklmn\n",
      "abcde\n",
      "fghijkl\n"
     ]
    }
   ],
   "source": [
    "# 문자열 index과 Slicing\n",
    "str = \"abcdefghijklmn\"\n",
    "\n",
    "print(str[0])\n",
    "print(str[0:3])\n",
    "print(str[-1])# 맨 뒤에 있는 아이\n",
    "print(str[5:])\n",
    "print(str[:5])\n",
    "print(str[5:-2])\n",
    "#fghijkl <- [_:-_]"
   ]
  },
  {
   "cell_type": "code",
   "execution_count": 70,
   "id": "ea7de2b0",
   "metadata": {},
   "outputs": [
    {
     "name": "stdout",
     "output_type": "stream",
     "text": [
      "2021-12-31\n",
      "2021-12-31\n"
     ]
    }
   ],
   "source": [
    "str = '20211231'\n",
    "\n",
    "#2021-12-31\n",
    "print(str[0:4]+ '-' + str[4:6]+ '-' + str[-2:])\n",
    "print(str[0:4]+ '-' + str[4:-2] + '-' + str[-2:])"
   ]
  },
  {
   "cell_type": "code",
   "execution_count": 76,
   "id": "3bfdefb5",
   "metadata": {},
   "outputs": [
    {
     "name": "stdout",
     "output_type": "stream",
     "text": [
      "202C1231\n"
     ]
    }
   ],
   "source": [
    "# 202C1231\n",
    "# str[3] = 'C' 문자열 데이터는 변경시킬 수 없다.\n",
    "print(str[0:3] + 'C' + str[4:])"
   ]
  },
  {
   "cell_type": "markdown",
   "id": "7f1e3e89",
   "metadata": {},
   "source": [
    "---\n",
    "\n",
    "\n",
    "\n",
    "\n",
    "# 문자열 관련 함수"
   ]
  },
  {
   "cell_type": "code",
   "execution_count": 83,
   "id": "daf7aead",
   "metadata": {},
   "outputs": [
    {
     "name": "stdout",
     "output_type": "stream",
     "text": [
      "1\n",
      "15\n"
     ]
    }
   ],
   "source": [
    "# 문자 Count\n",
    "str = \"I have a dream.\"\n",
    "print(str.count('dream'))\n",
    "print(len(str)) # 전체 길이"
   ]
  },
  {
   "cell_type": "code",
   "execution_count": 90,
   "id": "547d090b",
   "metadata": {},
   "outputs": [
    {
     "name": "stdout",
     "output_type": "stream",
     "text": [
      "5\n",
      "-1\n"
     ]
    }
   ],
   "source": [
    "# 문자 위치 알려주기\n",
    "\n",
    "print(str.find('e'))\n",
    "print(str.find('x'))  # 대소문자도 구분한다."
   ]
  },
  {
   "cell_type": "code",
   "execution_count": 91,
   "id": "98a09296",
   "metadata": {},
   "outputs": [
    {
     "data": {
      "text/plain": [
       "'a,b,c,d,e,f,g'"
      ]
     },
     "execution_count": 91,
     "metadata": {},
     "output_type": "execute_result"
    }
   ],
   "source": [
    "# 문자열 삽입\n",
    "\n",
    "str = ','\n",
    "str.join('abcdefg')"
   ]
  },
  {
   "cell_type": "code",
   "execution_count": 93,
   "id": "cfaa7ef0",
   "metadata": {},
   "outputs": [
    {
     "data": {
      "text/plain": [
       "'HI'"
      ]
     },
     "execution_count": 93,
     "metadata": {},
     "output_type": "execute_result"
    }
   ],
   "source": [
    "# 소문자를 대문자로 변경\n",
    "str = 'hi'\n",
    "str.upper()\n",
    "'hi'.upper()"
   ]
  },
  {
   "cell_type": "code",
   "execution_count": 94,
   "id": "b2d5542d",
   "metadata": {},
   "outputs": [
    {
     "data": {
      "text/plain": [
       "'hi'"
      ]
     },
     "execution_count": 94,
     "metadata": {},
     "output_type": "execute_result"
    }
   ],
   "source": [
    "# 대문자를 소문자로\n",
    "\n",
    "str = \"HI\"\n",
    "str.lower()"
   ]
  },
  {
   "cell_type": "code",
   "execution_count": 96,
   "id": "345db57b",
   "metadata": {},
   "outputs": [
    {
     "data": {
      "text/plain": [
       "'hi'"
      ]
     },
     "execution_count": 96,
     "metadata": {},
     "output_type": "execute_result"
    }
   ],
   "source": [
    "# 왼쪽 공백 지우기\n",
    "\n",
    "str = '             hi'\n",
    "str.lstrip()"
   ]
  },
  {
   "cell_type": "code",
   "execution_count": 97,
   "id": "561614b4",
   "metadata": {},
   "outputs": [
    {
     "data": {
      "text/plain": [
       "'hi'"
      ]
     },
     "execution_count": 97,
     "metadata": {},
     "output_type": "execute_result"
    }
   ],
   "source": [
    "# 오른쪽 공백 지우기\n",
    "\n",
    "str = 'hi       '\n",
    "str.rstrip()"
   ]
  },
  {
   "cell_type": "code",
   "execution_count": 99,
   "id": "3e19e092",
   "metadata": {},
   "outputs": [
    {
     "data": {
      "text/plain": [
       "'hi.'"
      ]
     },
     "execution_count": 99,
     "metadata": {},
     "output_type": "execute_result"
    }
   ],
   "source": [
    "#양쪽 공백 지우기\n",
    "str ='         hi.        '\n",
    "str.strip()"
   ]
  },
  {
   "cell_type": "code",
   "execution_count": 106,
   "id": "f7bd6b0d",
   "metadata": {},
   "outputs": [
    {
     "data": {
      "text/plain": [
       "'Life is too short to be unhappy.'"
      ]
     },
     "execution_count": 106,
     "metadata": {},
     "output_type": "execute_result"
    }
   ],
   "source": [
    "# 문자열바꾸기\n",
    "\n",
    "str = 'Life is too short to be happy.'\n",
    "str.replace('happy', 'unhappy')"
   ]
  },
  {
   "cell_type": "code",
   "execution_count": 107,
   "id": "c04e41ca",
   "metadata": {},
   "outputs": [
    {
     "data": {
      "text/plain": [
       "'Life is too short to be happy.'"
      ]
     },
     "execution_count": 107,
     "metadata": {},
     "output_type": "execute_result"
    }
   ],
   "source": [
    "# 문자열 나누기\n",
    "\n",
    "str"
   ]
  },
  {
   "cell_type": "code",
   "execution_count": 115,
   "id": "eb6b27a2",
   "metadata": {},
   "outputs": [
    {
     "name": "stdout",
     "output_type": "stream",
     "text": [
      "<class 'list'>\n",
      "['Life', 'is', 'too', 'short', 'to', 'be', 'happy.']\n"
     ]
    }
   ],
   "source": [
    "list01 = str.split()\n",
    "print(type(list01)) # = 어레이 리스트랑 같은 거\n",
    "print(list01)"
   ]
  },
  {
   "cell_type": "code",
   "execution_count": 117,
   "id": "783e46fe",
   "metadata": {},
   "outputs": [
    {
     "name": "stdout",
     "output_type": "stream",
     "text": [
      "<class 'str'>\n",
      "2021Life\n"
     ]
    }
   ],
   "source": [
    "str01 = '2021-12-31'\n",
    "str01.split('-')\n",
    "print(type(str01)) # String\n",
    "print(str01.split('-')[0] +list01[0])"
   ]
  },
  {
   "cell_type": "markdown",
   "id": "559973ff",
   "metadata": {},
   "source": [
    "---\n",
    "# 날짜형 변환"
   ]
  },
  {
   "cell_type": "code",
   "execution_count": 118,
   "id": "1f4999fd",
   "metadata": {},
   "outputs": [],
   "source": [
    "from datetime import datetime, timedelta # 날짜형 모듈 불러오기"
   ]
  },
  {
   "cell_type": "code",
   "execution_count": 150,
   "id": "58cf913a",
   "metadata": {},
   "outputs": [
    {
     "name": "stdout",
     "output_type": "stream",
     "text": [
      "<class 'datetime.datetime'>\n",
      "2021-12-31 12:00:00\n"
     ]
    }
   ],
   "source": [
    "time1 = datetime(2021, 12, 31, 12, 0, 0, 0)\n",
    "print(type(time1))\n",
    "print(time1)"
   ]
  },
  {
   "cell_type": "code",
   "execution_count": 151,
   "id": "e9a39395",
   "metadata": {},
   "outputs": [
    {
     "name": "stdout",
     "output_type": "stream",
     "text": [
      "174 days, 21:05:02.918170\n"
     ]
    }
   ],
   "source": [
    "#날짜 계산하기\n",
    "time2 = datetime.now()\n",
    "print((time1 - time2))"
   ]
  },
  {
   "cell_type": "code",
   "execution_count": 152,
   "id": "a610fbb7",
   "metadata": {},
   "outputs": [
    {
     "name": "stdout",
     "output_type": "stream",
     "text": [
      "두 날짜의 차이는\n",
      "174 일\n"
     ]
    }
   ],
   "source": [
    "#좀 더 편리하게 출력\n",
    "\n",
    "print('두 날짜의 차이는')\n",
    "print((time1 - time2).days, '일')\n",
    "\n"
   ]
  },
  {
   "cell_type": "code",
   "execution_count": 160,
   "id": "103fc21f",
   "metadata": {},
   "outputs": [
    {
     "name": "stdout",
     "output_type": "stream",
     "text": [
      "현재 시간부터 5일 뒤\n",
      "2021-07-14 14:54:57.081830\n",
      "현재 시간부터 5일 전\n",
      "2021-07-04 14:54:57.081830\n",
      "2021-07-10 12:58:37.029082\n"
     ]
    }
   ],
   "source": [
    "# 특정 날짜로 부터 시간 계산\n",
    "print('현재 시간부터 5일 뒤')\n",
    "print(time2 + timedelta(days = 5))\n",
    "print('현재 시간부터 5일 전')\n",
    "print(time2 + timedelta(days = -5))\n",
    "\n",
    "#현재 시간부터 1일뒤의 2시간 전\n",
    "print(datetime.now() + timedelta(days = 1, hours = -2))"
   ]
  },
  {
   "cell_type": "code",
   "execution_count": null,
   "id": "6dffcd30",
   "metadata": {},
   "outputs": [],
   "source": []
  }
 ],
 "metadata": {
  "kernelspec": {
   "display_name": "Python 3",
   "language": "python",
   "name": "python3"
  },
  "language_info": {
   "codemirror_mode": {
    "name": "ipython",
    "version": 3
   },
   "file_extension": ".py",
   "mimetype": "text/x-python",
   "name": "python",
   "nbconvert_exporter": "python",
   "pygments_lexer": "ipython3",
   "version": "3.8.8"
  }
 },
 "nbformat": 4,
 "nbformat_minor": 5
}
