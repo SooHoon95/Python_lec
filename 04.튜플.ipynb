{
 "cells": [
  {
   "cell_type": "markdown",
   "id": "ceb7acec",
   "metadata": {},
   "source": [
    "# 튜플(Tuple) 자료형; 변수하나가지고 자료 여러가지를 사용하는 것 = 자료형\n",
    ": Tuple은 다음과 같은 점을 제외하고 리스트와 거의 비슷하다.   \n",
    "- (,)로 사용   \n",
    "- 리스트는 그 값을 생성, 삭제, 수정이 가능하지만 튜플은 값을 바꿀 수 없다.   \n"
   ]
  },
  {
   "cell_type": "code",
   "execution_count": 10,
   "id": "71f919d6",
   "metadata": {},
   "outputs": [
    {
     "name": "stdout",
     "output_type": "stream",
     "text": [
      "()\n",
      "1\n",
      "(1, 2, 3)\n",
      "(1, 2, 3)\n",
      "('a', 'b', ('ab', 'cd'))\n",
      "('a', 'b', ('ab', 'cd'))\n"
     ]
    }
   ],
   "source": [
    "# 튜플의 사용\n",
    "var01 = ()\n",
    "var02 = (1)\n",
    "var03 = (1,2,3)\n",
    "var04 = 1,2,3\n",
    "var05 = ('a', 'b', ('ab', 'cd'))\n",
    "var06 = 'a', 'b', ('ab', 'cd')\n",
    "print(var01)\n",
    "print(var02)\n",
    "print(var03)\n",
    "print(var04)\n",
    "print(var05)\n",
    "print(var06)"
   ]
  },
  {
   "cell_type": "code",
   "execution_count": 11,
   "id": "008d6018",
   "metadata": {},
   "outputs": [
    {
     "name": "stdout",
     "output_type": "stream",
     "text": [
      "1\n"
     ]
    }
   ],
   "source": [
    "print(var03[0])\n"
   ]
  },
  {
   "cell_type": "code",
   "execution_count": 18,
   "id": "89e0e63a",
   "metadata": {},
   "outputs": [],
   "source": [
    "a,b = (1,2)"
   ]
  },
  {
   "cell_type": "code",
   "execution_count": 19,
   "id": "0809c7dc",
   "metadata": {},
   "outputs": [
    {
     "name": "stdout",
     "output_type": "stream",
     "text": [
      "1\n",
      "2\n"
     ]
    }
   ],
   "source": [
    "print(a)\n",
    "print(b)"
   ]
  },
  {
   "cell_type": "code",
   "execution_count": null,
   "id": "7a504bdc",
   "metadata": {},
   "outputs": [],
   "source": []
  }
 ],
 "metadata": {
  "kernelspec": {
   "display_name": "Python 3",
   "language": "python",
   "name": "python3"
  },
  "language_info": {
   "codemirror_mode": {
    "name": "ipython",
    "version": 3
   },
   "file_extension": ".py",
   "mimetype": "text/x-python",
   "name": "python",
   "nbconvert_exporter": "python",
   "pygments_lexer": "ipython3",
   "version": "3.8.8"
  }
 },
 "nbformat": 4,
 "nbformat_minor": 5
}
