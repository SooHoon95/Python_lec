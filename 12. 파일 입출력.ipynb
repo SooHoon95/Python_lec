{
 "cells": [
  {
   "cell_type": "markdown",
   "id": "506d370b",
   "metadata": {},
   "source": [
    "# 파일 읽고 쓰기\n",
    "- 파일 객체 : open(파일 이름, 파일 열기 모드)\n",
    "- 파일 열기모드 : r(읽기모드), w(쓰기모드), a(추가모드)"
   ]
  },
  {
   "cell_type": "code",
   "execution_count": 8,
   "id": "6d04b9b7",
   "metadata": {},
   "outputs": [],
   "source": [
    "# 파일을 쓰기모드로 열어서 출력값 저장하기\n",
    "\n",
    "f = open(\"./Data/new.txt\", \"w\")\n",
    "for i in range(1,11):\n",
    "    data = \"%d번째 줄 입니다.\\n\"%i\n",
    "    f.write(data)\n",
    "f.close()"
   ]
  },
  {
   "cell_type": "code",
   "execution_count": 10,
   "id": "4e6b3ad0",
   "metadata": {},
   "outputs": [
    {
     "name": "stdout",
     "output_type": "stream",
     "text": [
      "1번째 줄 입니다.\n",
      "\n",
      "2번째 줄 입니다.\n",
      "\n",
      "3번째 줄 입니다.\n",
      "\n",
      "4번째 줄 입니다.\n",
      "\n",
      "5번째 줄 입니다.\n",
      "\n",
      "6번째 줄 입니다.\n",
      "\n",
      "7번째 줄 입니다.\n",
      "\n",
      "8번째 줄 입니다.\n",
      "\n",
      "9번째 줄 입니다.\n",
      "\n",
      "10번째 줄 입니다.\n",
      "\n"
     ]
    }
   ],
   "source": [
    "# 파일 읽기모드로 내용출력하기 - 1\n",
    "f = open(\"./Data/new.txt\", \"r\")\n",
    "while True:\n",
    "         line = f.readline()\n",
    "         if not line: #다음줄에 데이터가없으면 멈춘다.\n",
    "             break\n",
    "         print(line)\n",
    "f.close()"
   ]
  },
  {
   "cell_type": "code",
   "execution_count": 14,
   "id": "31558756",
   "metadata": {},
   "outputs": [
    {
     "name": "stdout",
     "output_type": "stream",
     "text": [
      "1번째 줄 입니다.\n",
      "\n",
      "2번째 줄 입니다.\n",
      "\n",
      "3번째 줄 입니다.\n",
      "\n",
      "4번째 줄 입니다.\n",
      "\n",
      "5번째 줄 입니다.\n",
      "\n",
      "6번째 줄 입니다.\n",
      "\n",
      "7번째 줄 입니다.\n",
      "\n",
      "8번째 줄 입니다.\n",
      "\n",
      "9번째 줄 입니다.\n",
      "\n",
      "10번째 줄 입니다.\n",
      "\n"
     ]
    }
   ],
   "source": [
    "# 파일 읽기모드로 내용출력하기  - 2\n",
    "f = open(\"./Data/new.txt\", \"r\")\n",
    "lines = f.readlines()\n",
    "for line in lines:\n",
    "    print(line)\n",
    "f.close()"
   ]
  },
  {
   "cell_type": "code",
   "execution_count": 15,
   "id": "707fdc8a",
   "metadata": {
    "collapsed": true
   },
   "outputs": [
    {
     "name": "stdout",
     "output_type": "stream",
     "text": [
      "1번째 줄 입니다.\n",
      "2번째 줄 입니다.\n",
      "3번째 줄 입니다.\n",
      "4번째 줄 입니다.\n",
      "5번째 줄 입니다.\n",
      "6번째 줄 입니다.\n",
      "7번째 줄 입니다.\n",
      "8번째 줄 입니다.\n",
      "9번째 줄 입니다.\n",
      "10번째 줄 입니다.\n",
      "\n"
     ]
    }
   ],
   "source": [
    "# 파일 읽기모드로 내용출력하기  - 3\n",
    "f = open(\"./Data/new.txt\", \"r\")\n",
    "data = f.read()\n",
    "print(data)\n",
    "f.close()\n"
   ]
  },
  {
   "cell_type": "code",
   "execution_count": 19,
   "id": "b364dbea",
   "metadata": {},
   "outputs": [],
   "source": [
    "# 파일에 새로운 내용 추가하기\n",
    "f = open(\"./Data/new.txt\", \"a\")\n",
    "for i in range(11,20):\n",
    "    data = \"%d번째 줄 입니다. \\n\"%i\n",
    "    f.write(data)\n",
    "f.close()"
   ]
  },
  {
   "cell_type": "code",
   "execution_count": 20,
   "id": "bdb2dfdb",
   "metadata": {
    "collapsed": true
   },
   "outputs": [
    {
     "name": "stdout",
     "output_type": "stream",
     "text": [
      "1번째 줄 입니다.\n",
      "2번째 줄 입니다.\n",
      "3번째 줄 입니다.\n",
      "4번째 줄 입니다.\n",
      "5번째 줄 입니다.\n",
      "6번째 줄 입니다.\n",
      "7번째 줄 입니다.\n",
      "8번째 줄 입니다.\n",
      "9번째 줄 입니다.\n",
      "10번째 줄 입니다.\n",
      "11번째 줄 입니다. \n",
      "12번째 줄 입니다. \n",
      "13번째 줄 입니다. \n",
      "14번째 줄 입니다. \n",
      "15번째 줄 입니다. \n",
      "16번째 줄 입니다. \n",
      "17번째 줄 입니다. \n",
      "18번째 줄 입니다. \n",
      "19번째 줄 입니다. \n",
      "\n"
     ]
    }
   ],
   "source": [
    "# 파일 읽기모드로 내용출력하기  - 3\n",
    "f = open(\"./Data/new.txt\", \"r\")\n",
    "data = f.read()\n",
    "print(data)\n",
    "f.close()\n"
   ]
  },
  {
   "cell_type": "markdown",
   "id": "11d6c39e",
   "metadata": {},
   "source": [
    "# with 문 \n",
    ": 파일의 열고 닫음을 자도응로 ㅓ리하기 위해 사용되면 with문을 벗어나면 자동으로 close()"
   ]
  },
  {
   "cell_type": "code",
   "execution_count": 22,
   "id": "23f00ba4",
   "metadata": {},
   "outputs": [],
   "source": [
    "# 파일 만들기\n",
    "with open(\"./Data/new2.txt\", \"w\") as f :\n",
    "    for i in range(1,11):\n",
    "        data = \"%d번째 줄입니다.\\n\"%i\n",
    "        f.write(data)"
   ]
  },
  {
   "cell_type": "code",
   "execution_count": 23,
   "id": "22b48f7e",
   "metadata": {
    "scrolled": true
   },
   "outputs": [
    {
     "name": "stdout",
     "output_type": "stream",
     "text": [
      "1번째 줄입니다.\n",
      "2번째 줄입니다.\n",
      "3번째 줄입니다.\n",
      "4번째 줄입니다.\n",
      "5번째 줄입니다.\n",
      "6번째 줄입니다.\n",
      "7번째 줄입니다.\n",
      "8번째 줄입니다.\n",
      "9번째 줄입니다.\n",
      "10번째 줄입니다.\n",
      "\n"
     ]
    }
   ],
   "source": [
    "# 파일읽어오기\n",
    "with open(\"./Data/new2.txt\", \"r\") as f :\n",
    "    data = f.read()\n",
    "    print(data)"
   ]
  },
  {
   "cell_type": "markdown",
   "id": "5fdc2d04",
   "metadata": {},
   "source": [
    "# Pandas로 불러오기\n"
   ]
  },
  {
   "cell_type": "code",
   "execution_count": 37,
   "id": "59ee8ffa",
   "metadata": {},
   "outputs": [
    {
     "data": {
      "text/html": [
       "<div>\n",
       "<style scoped>\n",
       "    .dataframe tbody tr th:only-of-type {\n",
       "        vertical-align: middle;\n",
       "    }\n",
       "\n",
       "    .dataframe tbody tr th {\n",
       "        vertical-align: top;\n",
       "    }\n",
       "\n",
       "    .dataframe thead th {\n",
       "        text-align: right;\n",
       "    }\n",
       "</style>\n",
       "<table border=\"1\" class=\"dataframe\">\n",
       "  <thead>\n",
       "    <tr style=\"text-align: right;\">\n",
       "      <th></th>\n",
       "      <th>0</th>\n",
       "    </tr>\n",
       "  </thead>\n",
       "  <tbody>\n",
       "    <tr>\n",
       "      <th>14</th>\n",
       "      <td>15��° �� �Դϴ�.</td>\n",
       "    </tr>\n",
       "    <tr>\n",
       "      <th>15</th>\n",
       "      <td>16��° �� �Դϴ�.</td>\n",
       "    </tr>\n",
       "    <tr>\n",
       "      <th>16</th>\n",
       "      <td>17��° �� �Դϴ�.</td>\n",
       "    </tr>\n",
       "    <tr>\n",
       "      <th>17</th>\n",
       "      <td>18��° �� �Դϴ�.</td>\n",
       "    </tr>\n",
       "    <tr>\n",
       "      <th>18</th>\n",
       "      <td>19��° �� �Դϴ�.</td>\n",
       "    </tr>\n",
       "  </tbody>\n",
       "</table>\n",
       "</div>"
      ],
      "text/plain": [
       "                  0\n",
       "14  15��° �� �Դϴ�. \n",
       "15  16��° �� �Դϴ�. \n",
       "16  17��° �� �Դϴ�. \n",
       "17  18��° �� �Դϴ�. \n",
       "18  19��° �� �Դϴ�. "
      ]
     },
     "execution_count": 37,
     "metadata": {},
     "output_type": "execute_result"
    }
   ],
   "source": [
    "import pandas as pd\n",
    "txtSample = pd.read_table(\"./Data/new.txt\" , header=None)\n",
    "txtSample\n",
    "txtSample.head()\n",
    "txtSample.tail() #끝에 서 잘라서 보여준다."
   ]
  },
  {
   "cell_type": "markdown",
   "id": "f899da43",
   "metadata": {},
   "source": [
    "#  외장함수"
   ]
  },
  {
   "cell_type": "code",
   "execution_count": 41,
   "id": "c23f7fd8",
   "metadata": {},
   "outputs": [
    {
     "name": "stdout",
     "output_type": "stream",
     "text": [
      "0\n",
      "1\n",
      "2\n",
      "3\n",
      "4\n",
      "5\n",
      "6\n",
      "7\n",
      "8\n",
      "9\n"
     ]
    }
   ],
   "source": [
    "# time.sleep : 일정시간 간격으로 Loop를 실행\n",
    "import time\n",
    "\n",
    "for i in range(10):\n",
    "    print(i)\n",
    "    time.sleep(1)"
   ]
  },
  {
   "cell_type": "code",
   "execution_count": 42,
   "id": "059be59d",
   "metadata": {
    "collapsed": true
   },
   "outputs": [
    {
     "name": "stdout",
     "output_type": "stream",
     "text": [
      "                                  2021\n",
      "\n",
      "      January                   February                   March\n",
      "Mo Tu We Th Fr Sa Su      Mo Tu We Th Fr Sa Su      Mo Tu We Th Fr Sa Su\n",
      "             1  2  3       1  2  3  4  5  6  7       1  2  3  4  5  6  7\n",
      " 4  5  6  7  8  9 10       8  9 10 11 12 13 14       8  9 10 11 12 13 14\n",
      "11 12 13 14 15 16 17      15 16 17 18 19 20 21      15 16 17 18 19 20 21\n",
      "18 19 20 21 22 23 24      22 23 24 25 26 27 28      22 23 24 25 26 27 28\n",
      "25 26 27 28 29 30 31                                29 30 31\n",
      "\n",
      "       April                      May                       June\n",
      "Mo Tu We Th Fr Sa Su      Mo Tu We Th Fr Sa Su      Mo Tu We Th Fr Sa Su\n",
      "          1  2  3  4                      1  2          1  2  3  4  5  6\n",
      " 5  6  7  8  9 10 11       3  4  5  6  7  8  9       7  8  9 10 11 12 13\n",
      "12 13 14 15 16 17 18      10 11 12 13 14 15 16      14 15 16 17 18 19 20\n",
      "19 20 21 22 23 24 25      17 18 19 20 21 22 23      21 22 23 24 25 26 27\n",
      "26 27 28 29 30            24 25 26 27 28 29 30      28 29 30\n",
      "                          31\n",
      "\n",
      "        July                     August                  September\n",
      "Mo Tu We Th Fr Sa Su      Mo Tu We Th Fr Sa Su      Mo Tu We Th Fr Sa Su\n",
      "          1  2  3  4                         1             1  2  3  4  5\n",
      " 5  6  7  8  9 10 11       2  3  4  5  6  7  8       6  7  8  9 10 11 12\n",
      "12 13 14 15 16 17 18       9 10 11 12 13 14 15      13 14 15 16 17 18 19\n",
      "19 20 21 22 23 24 25      16 17 18 19 20 21 22      20 21 22 23 24 25 26\n",
      "26 27 28 29 30 31         23 24 25 26 27 28 29      27 28 29 30\n",
      "                          30 31\n",
      "\n",
      "      October                   November                  December\n",
      "Mo Tu We Th Fr Sa Su      Mo Tu We Th Fr Sa Su      Mo Tu We Th Fr Sa Su\n",
      "             1  2  3       1  2  3  4  5  6  7             1  2  3  4  5\n",
      " 4  5  6  7  8  9 10       8  9 10 11 12 13 14       6  7  8  9 10 11 12\n",
      "11 12 13 14 15 16 17      15 16 17 18 19 20 21      13 14 15 16 17 18 19\n",
      "18 19 20 21 22 23 24      22 23 24 25 26 27 28      20 21 22 23 24 25 26\n",
      "25 26 27 28 29 30 31      29 30                     27 28 29 30 31\n",
      "\n"
     ]
    }
   ],
   "source": [
    "import calendar\n",
    "print(calendar.calendar(2021))"
   ]
  },
  {
   "cell_type": "code",
   "execution_count": 44,
   "id": "5d11f7cd",
   "metadata": {},
   "outputs": [
    {
     "name": "stdout",
     "output_type": "stream",
     "text": [
      "     July 2021\n",
      "Mo Tu We Th Fr Sa Su\n",
      "          1  2  3  4\n",
      " 5  6  7  8  9 10 11\n",
      "12 13 14 15 16 17 18\n",
      "19 20 21 22 23 24 25\n",
      "26 27 28 29 30 31\n"
     ]
    }
   ],
   "source": [
    "calendar.prmonth(2021,7)"
   ]
  },
  {
   "cell_type": "code",
   "execution_count": 45,
   "id": "4a9d84fe",
   "metadata": {},
   "outputs": [
    {
     "data": {
      "text/plain": [
       "3"
      ]
     },
     "execution_count": 45,
     "metadata": {},
     "output_type": "execute_result"
    }
   ],
   "source": [
    "calendar.weekday(2021,7,1)"
   ]
  },
  {
   "cell_type": "code",
   "execution_count": 46,
   "id": "bf1c414d",
   "metadata": {},
   "outputs": [
    {
     "data": {
      "text/plain": [
       "(3, 31)"
      ]
     },
     "execution_count": 46,
     "metadata": {},
     "output_type": "execute_result"
    }
   ],
   "source": [
    "calendar.monthrange(2021,7) #목요일부터시작하고 31일이다"
   ]
  },
  {
   "cell_type": "code",
   "execution_count": 47,
   "id": "35fd7af5",
   "metadata": {},
   "outputs": [
    {
     "data": {
      "text/plain": [
       "True"
      ]
     },
     "execution_count": 47,
     "metadata": {},
     "output_type": "execute_result"
    }
   ],
   "source": [
    "# web browser\n",
    "import webbrowser\n",
    "webbrowser.open(\"http://www.naver.com\")"
   ]
  },
  {
   "cell_type": "code",
   "execution_count": null,
   "id": "641fc312",
   "metadata": {},
   "outputs": [],
   "source": []
  }
 ],
 "metadata": {
  "kernelspec": {
   "display_name": "Python 3",
   "language": "python",
   "name": "python3"
  },
  "language_info": {
   "codemirror_mode": {
    "name": "ipython",
    "version": 3
   },
   "file_extension": ".py",
   "mimetype": "text/x-python",
   "name": "python",
   "nbconvert_exporter": "python",
   "pygments_lexer": "ipython3",
   "version": "3.8.8"
  }
 },
 "nbformat": 4,
 "nbformat_minor": 5
}
